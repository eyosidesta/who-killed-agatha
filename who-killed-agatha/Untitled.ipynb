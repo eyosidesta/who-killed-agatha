{
 "cells": [
  {
   "cell_type": "code",
   "execution_count": 1,
   "id": "6aa03a42-2e47-4dfe-a237-c26ad20a3bcf",
   "metadata": {},
   "outputs": [
    {
     "name": "stdout",
     "output_type": "stream",
     "text": [
      "No solution found.\n"
     ]
    }
   ],
   "source": [
    "from constraint import Problem, AllDifferentConstraint\n",
    "\n",
    "class AgathaSolver:\n",
    "    def __init__(self):\n",
    "        self.problem = Problem()\n",
    "\n",
    "    def add_variables(self):\n",
    "        people = ['Agatha', 'Butler', 'Charles']\n",
    "        hates_values = [0, 1]\n",
    "        richer_values = [0, 1, 'not_defined']\n",
    "\n",
    "        # Adding variables to the problem\n",
    "        self.problem.addVariables(people, hates_values)\n",
    "        self.problem.addVariables([f\"{person}_richer\" for person in people], richer_values)\n",
    "\n",
    "    def add_basic_constraints(self):\n",
    "        # Adding basic constraints based on the given information\n",
    "        self.problem.addConstraint(lambda a, c: a == 1 and c == 0, ('Agatha', 'Charles'))  # Agatha hates Charles\n",
    "        self.problem.addConstraint(lambda c, a: a == 1 and c == 0, ('Charles', 'Agatha'))  # Charles hates everyone Agatha hates\n",
    "        self.problem.addConstraint(lambda c, b: c == 0 and b == 1, ('Charles', 'Butler'))  # Charles doesn't hate the butler\n",
    "        self.problem.addConstraint(lambda b: b == 1, ('Butler',))  # The butler hates everyone not richer than Agatha\n",
    "        self.problem.addConstraint(lambda a_richer, b_richer: a_richer == 1 and b_richer == 0, ('Agatha_richer', 'Butler_richer'))  # Agatha is not richer than the butler\n",
    "        self.problem.addConstraint(lambda a, b, c: a == 1 and c == 0 and b == 0, ('Agatha', 'Butler', 'Charles'))  # Agatha hates Charles and herself\n",
    "        self.problem.addConstraint(AllDifferentConstraint(), ['Agatha', 'Butler', 'Charles'])  # No one hates everyone\n",
    "\n",
    "    def add_solution_constraints(self):\n",
    "        # Additional constraints for the solution\n",
    "        self.problem.addConstraint(lambda a_richer, a: a_richer == 'not_defined' and a == 0, ('Agatha_richer', 'Agatha'))\n",
    "\n",
    "    def solve(self):\n",
    "        # Solve the problem\n",
    "        solutions = self.problem.getSolutions()\n",
    "\n",
    "        # Print the solution\n",
    "        if solutions:\n",
    "            print(\"Solution found:\")\n",
    "            print(solutions[0])\n",
    "        else:\n",
    "            print(\"No solution found.\")\n",
    "\n",
    "agatha_solver = AgathaSolver()\n",
    "agatha_solver.add_variables()\n",
    "agatha_solver.add_basic_constraints()\n",
    "agatha_solver.add_solution_constraints()\n",
    "agatha_solver.solve()"
   ]
  },
  {
   "cell_type": "code",
   "execution_count": null,
   "id": "2ae48001-d898-40ce-9932-8fa68cedac0b",
   "metadata": {},
   "outputs": [],
   "source": []
  }
 ],
 "metadata": {
  "kernelspec": {
   "display_name": "aiexercise",
   "language": "python",
   "name": "aiexercise"
  },
  "language_info": {
   "codemirror_mode": {
    "name": "ipython",
    "version": 3
   },
   "file_extension": ".py",
   "mimetype": "text/x-python",
   "name": "python",
   "nbconvert_exporter": "python",
   "pygments_lexer": "ipython3",
   "version": "3.11.7"
  }
 },
 "nbformat": 4,
 "nbformat_minor": 5
}
